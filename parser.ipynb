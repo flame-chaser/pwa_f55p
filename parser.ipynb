{
 "cells": [
  {
   "cell_type": "code",
   "execution_count": 2,
   "id": "8084b955",
   "metadata": {},
   "outputs": [],
   "source": [
    "import pywinauto as pwa\n",
    "import xlwings as xw\n",
    "\n",
    "import win32gui\n",
    "import win32ui\n",
    "import win32con"
   ]
  },
  {
   "cell_type": "code",
   "execution_count": 8,
   "id": "48b47976",
   "metadata": {},
   "outputs": [],
   "source": [
    "def find_browser():\n",
    "    browsers = []\n",
    "    def winEnumHandler(hwnd, ctx):\n",
    "        if win32gui.IsWindowVisible(hwnd):\n",
    "            n = win32gui.GetWindowText(hwnd)\n",
    "            #print(n)\n",
    "            if n =='Сервисы - Федеральная служба судебных приставов — Профиль 1: Microsoft​ Edge':\n",
    "                browsers.append(hwnd)\n",
    "    win32gui.EnumWindows(winEnumHandler, None)\n",
    "    return browsers"
   ]
  },
  {
   "cell_type": "code",
   "execution_count": 79,
   "id": "58cfcdb1",
   "metadata": {},
   "outputs": [],
   "source": [
    "import numpy as np\n",
    "import cv2\n",
    "\n",
    "from mltu.inferenceModel import OnnxInferenceModel\n",
    "from mltu.utils.text_utils import ctc_decoder\n",
    "from mltu.configs import BaseModelConfigs\n",
    "import typing\n",
    "\n",
    "import os\n",
    "\n",
    "class ImageToWordModel(OnnxInferenceModel):\n",
    "    def __init__(self, char_list: typing.Union[str, list], *args, **kwargs):\n",
    "        super().__init__(*args, **kwargs)\n",
    "        self.char_list = char_list\n",
    "\n",
    "    def predict(self, image: np.ndarray):\n",
    "        image = cv2.resize(image, self.input_shape[:2][::-1])\n",
    "\n",
    "        image_pred = np.expand_dims(image, axis=0).astype(np.float32)\n",
    "\n",
    "        preds = self.model.run(None, {self.input_name: image_pred})[0]\n",
    "\n",
    "        text = ctc_decoder(preds, self.char_list)[0]\n",
    "\n",
    "        return text\n",
    "\n",
    "def get_model():\n",
    "    path = str(os.path.abspath(os.getcwd()))\n",
    "    configs = BaseModelConfigs.load(path + \"/configs.yaml\")\n",
    "    model = ImageToWordModel(model_path=configs.model_path, char_list=configs.vocab)\n",
    "    return model"
   ]
  },
  {
   "cell_type": "code",
   "execution_count": 81,
   "id": "9cddc0cb",
   "metadata": {},
   "outputs": [],
   "source": [
    "model = get_model()"
   ]
  },
  {
   "cell_type": "code",
   "execution_count": 12,
   "id": "d3943b22",
   "metadata": {},
   "outputs": [],
   "source": [
    "hwnd=find_browser()[0]"
   ]
  },
  {
   "cell_type": "code",
   "execution_count": 15,
   "id": "b22ae321",
   "metadata": {},
   "outputs": [],
   "source": [
    "appUIA=pwa.Application(backend='uia').connect(handle=hwnd)\n",
    "mainUIA=appUIA.window(handle=hwnd)"
   ]
  },
  {
   "cell_type": "code",
   "execution_count": 16,
   "id": "c23a4582",
   "metadata": {},
   "outputs": [
    {
     "data": {
      "text/plain": [
       "<uia_controls.ButtonWrapper - 'Поиск по номеру ИП', RadioButton, -5587598007643804966>"
      ]
     },
     "execution_count": 16,
     "metadata": {},
     "output_type": "execute_result"
    }
   ],
   "source": [
    "mainUIA.descendants(title='Поиск по номеру ИП')[0].invoke()"
   ]
  },
  {
   "cell_type": "code",
   "execution_count": 113,
   "id": "799b8e04",
   "metadata": {},
   "outputs": [
    {
     "data": {
      "text/plain": [
       "[<uia_controls.ButtonWrapper - 'Найти', Button, 2225331433161793765>]"
      ]
     },
     "execution_count": 113,
     "metadata": {},
     "output_type": "execute_result"
    }
   ],
   "source": [
    "#test_ip='38709/18/26030-ИП'\n",
    "mainUIA.descendants(control_type='Button', title='Найти')"
   ]
  },
  {
   "cell_type": "code",
   "execution_count": 22,
   "id": "88d6735e",
   "metadata": {},
   "outputs": [
    {
     "data": {
      "text/plain": [
       "<uia_controls.ButtonWrapper - 'Найти', Button, 4823980421158977087>"
      ]
     },
     "execution_count": 22,
     "metadata": {},
     "output_type": "execute_result"
    }
   ],
   "source": [
    "mainUIA.descendants(control_type='Button', title='Найти')[0].invoke()"
   ]
  },
  {
   "cell_type": "code",
   "execution_count": 85,
   "id": "526e01f1",
   "metadata": {},
   "outputs": [],
   "source": [
    "import numpy as np\n",
    "import cv2\n",
    "from time import sleep\n",
    "def solve_captcha():\n",
    "    send_btn = mainUIA.descendants(control_type='Button', title='Отправить')\n",
    "    while len(send_btn) != 0\n",
    "        img = mainUIA.descendants(control_type='Image')[-1].capture_as_image()\n",
    "        cv_image = np.array(img)\n",
    "        padding = 0\n",
    "        while True:\n",
    "            if list(cv_image[cv_image.shape[0]//2, padding]) == [255,255,255] or list(cv_image[cv_image.shape[0]//2, padding]) == [140,140,140]:\n",
    "                padding+=1\n",
    "            else:\n",
    "                break\n",
    "        cv_image_fixed = cv_image[padding:cv_image.shape[0]-padding, padding:cv_image.shape[1]-padding, :]\n",
    "        cv_image_fixed_scaled = cv2.resize(cv_image_fixed, (200, 60))\n",
    "        ans = model.predict(cv_image_fixed_scaled)\n",
    "        mainUIA.descendants(control_type='Edit')[-2].set_edit_text(ans)\n",
    "        send_btn[0].invoke()\n",
    "        sleep(1)\n",
    "    #return model.predict(cv_image_fixed_scaled)"
   ]
  },
  {
   "cell_type": "code",
   "execution_count": 86,
   "id": "c84edc06",
   "metadata": {},
   "outputs": [],
   "source": [
    "solve_captcha()"
   ]
  },
  {
   "cell_type": "code",
   "execution_count": 109,
   "id": "fbf5c46e",
   "metadata": {},
   "outputs": [],
   "source": [
    "def get_dt():\n",
    "    elems = mainUIA.descendants()\n",
    "    for i in range(len(elems)):\n",
    "        if elems[i].window_text() == 'Дата, причина окончания или прекращения ИП (статья, часть, пункт основания)':\n",
    "            return elems[i+9].window_text()\n",
    "    return ''"
   ]
  },
  {
   "cell_type": "code",
   "execution_count": 110,
   "id": "7edf1d98",
   "metadata": {},
   "outputs": [
    {
     "data": {
      "text/plain": [
       "'17.01.2023 ст. 46 ч. 1 п. 3'"
      ]
     },
     "execution_count": 110,
     "metadata": {},
     "output_type": "execute_result"
    }
   ],
   "source": [
    "get_dt()"
   ]
  },
  {
   "cell_type": "code",
   "execution_count": null,
   "id": "c4189938",
   "metadata": {},
   "outputs": [],
   "source": []
  },
  {
   "cell_type": "code",
   "execution_count": 103,
   "id": "a4879212",
   "metadata": {},
   "outputs": [
    {
     "data": {
      "text/plain": [
       "'Сервисы - Федеральная служба судебных приставов: Microsoft Edge'"
      ]
     },
     "execution_count": 103,
     "metadata": {},
     "output_type": "execute_result"
    }
   ],
   "source": [
    "mainUIA.descendants()[2].window_text()"
   ]
  },
  {
   "cell_type": "code",
   "execution_count": 96,
   "id": "e56a5444",
   "metadata": {},
   "outputs": [],
   "source": [
    "img = mainUIA.descendants(control_type='Image')[-1].capture_as_image()"
   ]
  },
  {
   "cell_type": "code",
   "execution_count": 97,
   "id": "9ac6221c",
   "metadata": {},
   "outputs": [
    {
     "data": {
      "image/png": "[encoded data removed]",
      "text/plain": [
       "<PIL.Image.Image image mode=RGB size=33x33>"
      ]
     },
     "execution_count": 97,
     "metadata": {},
     "output_type": "execute_result"
    }
   ],
   "source": [
    "img"
   ]
  },
  {
   "cell_type": "code",
   "execution_count": 70,
   "id": "59a5abfd",
   "metadata": {},
   "outputs": [],
   "source": [
    "import numpy as np\n",
    "import cv2\n",
    "cv_image = np.array(img)"
   ]
  },
  {
   "cell_type": "code",
   "execution_count": 71,
   "id": "b7d020df",
   "metadata": {},
   "outputs": [],
   "source": [
    "padding = 0\n",
    "while True:\n",
    "    if list(cv_image[cv_image.shape[0]//2, padding]) == [255,255,255] or list(cv_image[cv_image.shape[0]//2, padding]) == [140,140,140]:\n",
    "        padding+=1\n",
    "    else:\n",
    "        break"
   ]
  },
  {
   "cell_type": "code",
   "execution_count": 72,
   "id": "8739c8da",
   "metadata": {},
   "outputs": [],
   "source": [
    "cv_image_fixed = cv_image[padding:cv_image.shape[0]-padding, padding:cv_image.shape[1]-padding, :]"
   ]
  },
  {
   "cell_type": "code",
   "execution_count": 73,
   "id": "f818015d",
   "metadata": {},
   "outputs": [
    {
     "data": {
      "text/plain": [
       "(76, 241, 3)"
      ]
     },
     "execution_count": 73,
     "metadata": {},
     "output_type": "execute_result"
    }
   ],
   "source": [
    "cv_image.shape"
   ]
  },
  {
   "cell_type": "code",
   "execution_count": 74,
   "id": "6e8b062e",
   "metadata": {},
   "outputs": [
    {
     "data": {
      "text/plain": [
       "(72, 237, 3)"
      ]
     },
     "execution_count": 74,
     "metadata": {},
     "output_type": "execute_result"
    }
   ],
   "source": [
    "cv_image_fixed.shape"
   ]
  },
  {
   "cell_type": "code",
   "execution_count": 75,
   "id": "941b178c",
   "metadata": {},
   "outputs": [],
   "source": [
    "cv_image_fixed_scaled = cv2.resize(cv_image_fixed, (200, 60))"
   ]
  },
  {
   "cell_type": "code",
   "execution_count": 76,
   "id": "b38598a8",
   "metadata": {},
   "outputs": [
    {
     "data": {
      "text/plain": [
       "(60, 200, 3)"
      ]
     },
     "execution_count": 76,
     "metadata": {},
     "output_type": "execute_result"
    }
   ],
   "source": [
    "cv_image_fixed_scaled.shape"
   ]
  },
  {
   "cell_type": "code",
   "execution_count": 82,
   "id": "c5558ebe",
   "metadata": {},
   "outputs": [
    {
     "data": {
      "text/plain": [
       "'тд9в'"
      ]
     },
     "execution_count": 82,
     "metadata": {},
     "output_type": "execute_result"
    }
   ],
   "source": [
    "#import requests\n",
    "#response = requests.post('http://127.0.0.1:8080/captcha', files={'captcha_image': get_image_handler(cv_image_fixed_scaled)})\n",
    "ans = model.predict(cv_image_fixed_scaled)"
   ]
  },
  {
   "cell_type": "code",
   "execution_count": 24,
   "id": "1384baa9",
   "metadata": {},
   "outputs": [
    {
     "data": {
      "text/plain": [
       "<uia_controls.EditWrapper - '￼', Edit, 3107238147746970264>"
      ]
     },
     "execution_count": 24,
     "metadata": {},
     "output_type": "execute_result"
    }
   ],
   "source": [
    "mainUIA.descendants(control_type='Edit')[-2].set_edit_text(ans)"
   ]
  },
  {
   "cell_type": "code",
   "execution_count": 116,
   "id": "6ca31920",
   "metadata": {},
   "outputs": [
    {
     "data": {
      "text/plain": [
       "[<uia_controls.StaticWrapper - 'Ваш запрос обрабатывается', Static, 5803799566624461690>]"
      ]
     },
     "execution_count": 116,
     "metadata": {},
     "output_type": "execute_result"
    }
   ],
   "source": [
    "mainUIA.descendants(title='Ваш запрос обрабатывается')"
   ]
  },
  {
   "cell_type": "code",
   "execution_count": 114,
   "id": "ecafa965",
   "metadata": {},
   "outputs": [
    {
     "data": {
      "text/plain": [
       "[<uiawrapper.UIAWrapper - '', Pane, 5247415800147687455>,\n",
       " <uiawrapper.UIAWrapper - '', Pane, 1186459332694474521>,\n",
       " <uiawrapper.UIAWrapper - 'Сервисы - Федеральная служба судебных приставов: Microsoft Edge', Pane, 9043568135685549638>,\n",
       " <uiawrapper.UIAWrapper - '', Pane, -7973673301686318882>,\n",
       " <uiawrapper.UIAWrapper - '', Pane, -1989677088623621720>,\n",
       " <uiawrapper.UIAWrapper - '', Pane, -5706325555772606155>,\n",
       " <uia_controls.ButtonWrapper - 'Свернуть', Button, 3678151590313778690>,\n",
       " <uia_controls.ButtonWrapper - 'Развернуть', Button, -1753310971191776076>,\n",
       " <uia_controls.ButtonWrapper - 'Закрыть', Button, -2922534899917540086>,\n",
       " <uiawrapper.UIAWrapper - '', Pane, 7062690796550750745>,\n",
       " <uiawrapper.UIAWrapper - '', Pane, 4288799183144478982>,\n",
       " <uia_controls.ButtonWrapper - 'Профиль Профиль 1, войдите в систему', Button, -261876824002793992>,\n",
       " <uiawrapper.UIAWrapper - '', Pane, -5419047130165150536>,\n",
       " <uia_controls.TabControlWrapper - 'Панель вкладок', TabControl, 6627247040596007002>,\n",
       " <uiawrapper.UIAWrapper - '', Pane, -3804480403035848477>,\n",
       " <uia_controls.ButtonWrapper - 'Меню действий вкладок', Button, 5091712499864746158>,\n",
       " <uiawrapper.UIAWrapper - '', Pane, 119606284494008577>,\n",
       " <uiawrapper.UIAWrapper - '', Pane, 8241813767725309061>,\n",
       " <uiawrapper.UIAWrapper - 'Сервисы - Федеральная служба судебных приставов', TabItem, -97730978335658348>,\n",
       " <uia_controls.ButtonWrapper - 'Закрыть вкладку', Button, -5436147805711892763>,\n",
       " <uiawrapper.UIAWrapper - '', Pane, -4973704331761612487>,\n",
       " <uiawrapper.UIAWrapper - '', Pane, -1249854231514680131>,\n",
       " <uiawrapper.UIAWrapper - '', Pane, 364712495614621928>,\n",
       " <uiawrapper.UIAWrapper - '', Pane, 5257786524587318294>,\n",
       " <uiawrapper.UIAWrapper - '', Pane, -80630302788916121>,\n",
       " <uia_controls.ButtonWrapper - 'Новая вкладка', Button, -5139778356484184623>,\n",
       " <uiawrapper.UIAWrapper - '', Pane, 2703160353066149948>,\n",
       " <uia_controls.ToolbarWrapper - 'Панель приложения', Toolbar, 1088593625936847889>,\n",
       " <uiawrapper.UIAWrapper - '', Pane, 8326888638461271598>,\n",
       " <uia_controls.ButtonWrapper - 'Назад', Button, -4091758828643304096>,\n",
       " <uia_controls.ButtonWrapper - 'Обновить', Button, 2186717443124796606>,\n",
       " <uiawrapper.UIAWrapper - '', GroupBox, 1942380462299593148>,\n",
       " <uia_controls.ButtonWrapper - 'Просмотреть сведения о сайте', Button, -7442096683786791697>,\n",
       " <uia_controls.EditWrapper - 'https://fssp.gov.ru/iss/ip', Edit, -489113129281255223>,\n",
       " <uiawrapper.UIAWrapper - '', Pane, 2903396940349074646>,\n",
       " <uia_controls.ButtonWrapper - 'Масштаб: 125 %', Button, 7299826144278006282>,\n",
       " <uia_controls.ButtonWrapper - 'Прочитать эту страницу вслух (CTRL+SHIFT+U)', Button, 6270835471039304474>,\n",
       " <uia_controls.ButtonWrapper - 'Добавить эту страницу к избранному (CTRL+D)', Button, 8118681187784989086>,\n",
       " <uiawrapper.UIAWrapper - '', Pane, -244776148456051765>,\n",
       " <uia_controls.ButtonWrapper - 'Planet VPN\n",
       " Имеет доступ к этому сайту', Button, -6848549766502833632>,\n",
       " <uia_controls.ButtonWrapper - 'Расширения', Button, -5137850177428748131>,\n",
       " <uiawrapper.UIAWrapper - '', Pane, -4197790733036881844>,\n",
       " <uia_controls.ButtonWrapper - 'Разделенный экран', Button, -3951525573156241894>,\n",
       " <uiawrapper.UIAWrapper - '', Pane, 8981636624834250650>,\n",
       " <uia_controls.ButtonWrapper - 'Избранное', Button, 2309850023065116581>,\n",
       " <uia_controls.ButtonWrapper - 'Коллекции', Button, 7648266850441350996>,\n",
       " <uia_controls.ButtonWrapper - 'Основные параметры браузера', Button, -4074658153096561869>,\n",
       " <uia_controls.ButtonWrapper - 'Настройки и прочее (ALT+F)', Button, 1726202148229952822>,\n",
       " <uia_controls.ButtonWrapper - 'Copilot (CTRL+SHIFT+.)', Button, 7064618975606187237>,\n",
       " <uiawrapper.UIAWrapper - '', Pane, 5903365910273781041>,\n",
       " <uiawrapper.UIAWrapper - '', Pane, -4249823201439386526>,\n",
       " <uiawrapper.UIAWrapper - '', Pane, -6910481277354132620>,\n",
       " <uiawrapper.UIAWrapper - '', Pane, -8819528063188838219>,\n",
       " <uiawrapper.UIAWrapper - 'Контейнер информационной панели', GroupBox, 3119575254418714972>,\n",
       " <uiawrapper.UIAWrapper - 'Информационная строка: Microsoft Edge помогает обеспечить безопасность в Интернете с помощью встроенных инструментов, которые обеспечивают вашу безопасность и конфиденциальность данных просмотра', Dialog, 1410803844400065963>,\n",
       " <uia_controls.StaticWrapper - 'Назначить Microsoft Edge браузером по умолчанию', Static, -5313015225771572788>,\n",
       " <uia_controls.StaticWrapper - 'Microsoft Edge помогает обеспечить безопасность в Интернете с помощью встроенных инструментов, которые обеспечивают вашу безопасность и конфиденциальность данных просмотра', Static, -3203731852653942491>,\n",
       " <uia_controls.ButtonWrapper - 'Подтвердить', Button, 2134684974722291924>,\n",
       " <uia_controls.ButtonWrapper - 'Не сейчас', Button, -3927612982976168452>,\n",
       " <uia_controls.ButtonWrapper - 'Закрыть', Button, 5011521364706678344>,\n",
       " <uiawrapper.UIAWrapper - '', Pane, 8012649283391411338>,\n",
       " <uiawrapper.UIAWrapper - '', Pane, 6643188767382722630>,\n",
       " <uiawrapper.UIAWrapper - '', Pane, 7429001408556247579>,\n",
       " <uiawrapper.UIAWrapper - 'Сервисы - Федеральная служба судебных приставов', Document, 5585654284966252980>,\n",
       " <uiawrapper.UIAWrapper - '', GroupBox, 8369444940821319049>,\n",
       " <uiawrapper.UIAWrapper - '', Image, -3711781022795600944>,\n",
       " <uiawrapper.UIAWrapper - '', GroupBox, -5925976140079914282>,\n",
       " <uia_controls.ListViewWrapper - '', ListBox, 2996057532056190287>,\n",
       " <uia_controls.ListItemWrapper - 'EN', ListItem, -3621729633721870716>,\n",
       " <uiawrapper.UIAWrapper - 'EN', Hyperlink, -5236296360851172775>,\n",
       " <uia_controls.ListItemWrapper - '', ListItem, 8440506263826002450>,\n",
       " <uiawrapper.UIAWrapper - '', Hyperlink, 318298780594701966>,\n",
       " <uiawrapper.UIAWrapper - '', Image, 4271313365175532045>,\n",
       " <uia_controls.ListItemWrapper - '', ListItem, 3225222016390088010>,\n",
       " <uiawrapper.UIAWrapper - '', Hyperlink, 1610655289260785951>,\n",
       " <uiawrapper.UIAWrapper - '', Image, -5837044911233078761>,\n",
       " <uia_controls.ListItemWrapper - '', ListItem, 5779848187911256356>,\n",
       " <uiawrapper.UIAWrapper - 'Меню', Hyperlink, 4165281460781954297>,\n",
       " <uiawrapper.UIAWrapper - 'Логотип ФССП России ФССП России Федеральная служба судебных приставов', Hyperlink, -1650751337035866129>,\n",
       " <uiawrapper.UIAWrapper - 'Логотип ФССП России', Image, 780742254544982242>,\n",
       " <uiawrapper.UIAWrapper - '', GroupBox, 6754878213692016990>,\n",
       " <uiawrapper.UIAWrapper - '', GroupBox, 4645594840574386693>,\n",
       " <uiawrapper.UIAWrapper - 'Сервисы', Hyperlink, -1311440443025905828>,\n",
       " <uia_controls.StaticWrapper - '›', Static, -8497340537633356032>,\n",
       " <uia_controls.StaticWrapper - '/', Static, 2412409657221026528>,\n",
       " <uiawrapper.UIAWrapper - 'Банк данных исполнительных производств', Hyperlink, 1243185728495262518>,\n",
       " <uia_controls.StaticWrapper - 'Банк данных исполнительных производств', Static, -2357531791811349863>,\n",
       " <uia_controls.ButtonWrapper - '', Button, -4505564527362483707>,\n",
       " <uia_controls.StaticWrapper - 'По вашему запросу ничего не найдено', Static, -2890997800233181648>,\n",
       " <uiawrapper.UIAWrapper - '', GroupBox, -6956125762078642689>,\n",
       " <uia_controls.ButtonWrapper - 'Поиск физических лиц', RadioButton, -3848965939000331947>,\n",
       " <uia_controls.ButtonWrapper - 'Поиск юридических лиц', RadioButton, 320226959650138458>,\n",
       " <uia_controls.ButtonWrapper - 'Поиск по номеру ИП', RadioButton, 91062475316240735>,\n",
       " <uia_controls.ButtonWrapper - 'Поиск по номеру ИД', RadioButton, 4260255373966711140>,\n",
       " <uia_controls.ButtonWrapper - 'Поиск по ИНН юридического лица', RadioButton, 1383418983982324720>,\n",
       " <uia_controls.StaticWrapper - 'Номер исполнительного производства:*', Static, -5576766203621159675>,\n",
       " <uia_controls.EditWrapper - '52304/20/61018-ИП', Edit, -238349376244925260>,\n",
       " <uia_controls.StaticWrapper - 'Для поиска введите номер исполнительного производства в формате n..n/yy/dd/rr или n..n/yy/ddddd-ИП', Static, 701710068146941027>,\n",
       " <uia_controls.ButtonWrapper - 'Найти', Button, 7321425412980438522>,\n",
       " <uiawrapper.UIAWrapper - 'Памятка по использованию банка данных исполнительных производств и других информационных ресурсов', Hyperlink, -3142207573106215>,\n",
       " <uia_controls.StaticWrapper - 'Для участия в исполнительном производстве воспользуйтесь сервисом ', Static, 3720707892673826141>,\n",
       " <uiawrapper.UIAWrapper - 'https://www.gosuslugi.ru/', Hyperlink, 936917236818760072>,\n",
       " <uiawrapper.UIAWrapper - '', Separator, 9059124720050060556>,\n",
       " <uia_controls.StaticWrapper - 'В соответствии со статьей 6.1 Федерального закона от 02.10.2007 № 229-ФЗ «Об исполнительном производстве» Федеральная служба судебных приставов создает и ведет банк данных исполнительных производств в электронном виде. Согласно с ', Static, 6275334064194994487>,\n",
       " <uiawrapper.UIAWrapper - 'Порядком создания и ведения банка данных в исполнительном производстве Федеральной службы судебных приставов', Hyperlink, 7889900791324296546>,\n",
       " <uia_controls.StaticWrapper - ' в электронном виде общедоступная часть Банка данных публикуется на официальном сайте ФССП России.', Static, -8447559909267624773>,\n",
       " <uia_controls.StaticWrapper - 'Сведения, указанные в части 3 статьи 6.1 от 02.10.2007 № 229-ФЗ «Об исполнительном производстве», являются общедоступными до дня окончания или прекращения исполнительного производства, за исключением сведений ', Static, -325352426036324289>,\n",
       " <uia_controls.StaticWrapper - 'об окончании исполнительного производства в случаях, предусмотренных', Static, -5218426455009020655>,\n",
       " <uia_controls.StaticWrapper - ' пунктами 3 и 4 части 1 статьи 46 Федерального закона, или об окончании исполнительного производства ', Static, -8002217110864086724>,\n",
       " <uia_controls.StaticWrapper - 'в случаях, предусмотренных', Static, -1494576354762088299>,\n",
       " <uia_controls.StaticWrapper - ' пунктами 6 и 7 части 1 статьи 47 Федерального закона, которые являются общедоступными в течение трех лет со дня окончания исполнительного производства.', Static, -4278367010617154368>,\n",
       " <uia_controls.StaticWrapper - 'Согласно части 3 статьи 6.1 Федерального закона от 02.10.2007 № 229-ФЗ «Об исполнительном производстве» в общедоступной части Банка данных не публикуются требования, содержащиеся в исполнительных документах, выданных на основании судебного акта, текст которого в соответствии с законодательством Российской Федерации не подлежит размещению в сети «Интернет».', Static, 3843840472614146116>,\n",
       " <uia_controls.StaticWrapper - 'Для работы с банком нужно выбрать подраздел – поиск по физическим лицам, либо поиск по юридическим лицам. В разделе «Территориальные органы» указывается регион официальной регистрации физического лица, место пребывания или местонахождения его имущества, место регистрации в ИФНС юридического лица, местонахождения его имущества или адрес его представительства или филиала (например Алтайский край).', Static, 7567690572861078472>,\n",
       " <uia_controls.StaticWrapper - 'В соответствии со статьей 33 Федерального закона от 02.10.2007 № 229-ФЗ «Об исполнительном производстве» исполнительное производство может быть передано в другое подразделение судебных приставов. По решению Директора Федеральной службы судебных приставов – главного судебного пристава Российской Федерации исполнительное производство может быть передано в Управление по исполнению особо важных исполнительных производств. В этом случае: в разделе «Территориальные органы» указывается – Управление по исполнению особо важных исполнительных производств.', Static, -109174111966683963>,\n",
       " <uia_controls.StaticWrapper - 'При наличии сведений о номере исполнительного производства Вы можете получить информацию из банка данных исполнительных производств через раздел «Поиск по номеру исполнительного производства».', Static, 3614675988280248393>,\n",
       " <uia_controls.StaticWrapper - 'При наличии сведений о номере исполнительного документа Вы можете получить информацию из банка данных исполнительных производств через раздел «Поиск по номеру исполнительного документа».', Static, -6709860602198002739>,\n",
       " <uia_controls.StaticWrapper - 'ФССП России не хранит и не передает третьим лицам персональные данные, введенные пользователями в форму поиска.', Static, 4060018786683786442>,\n",
       " <uiawrapper.UIAWrapper - '', Separator, 7783868886930718798>,\n",
       " <uia_controls.StaticWrapper - 'Сервис «Банк данных исполнительных производств» предоставляется только на официальном сайте ФССП России по адресу http://fssp.gov.ru/iss/ip/ и разделах территориальных органов ФССП России, расположенных в доменах четвертого уровня r**.fssp.gov.ru/iss/ip/.', Static, -9048308459649530759>,\n",
       " <uiawrapper.UIAWrapper - '', Separator, -5324458359402598403>,\n",
       " <uia_controls.StaticWrapper - 'Федеральная служба судебных приставов рекомендует гражданам и представителям юридических лиц, обнаруживших себя в банке данных исполнительных производств, оплатить задолженность посредством ', Static, -3709891632273296344>,\n",
       " <uiawrapper.UIAWrapper - 'портала Госуслуг', Hyperlink, -6493682288128362413>,\n",
       " <uia_controls.StaticWrapper - ' или скачать и', Static, 13958467973636012>,\n",
       " <uia_controls.StaticWrapper - ' распечатать квитанцию для оплаты.', Static, -2769832187881430057>,\n",
       " <uia_controls.StaticWrapper - 'Для оплаты задолженности посредством портала Госуслуг необходимо быть зарегистрированным пользователем портала Госуслуг. Описание регистрации Упрощенной учетной записи пользователя портала Госуслуг размещено в разделе ', Static, 5352375295349870427>,\n",
       " <uiawrapper.UIAWrapper - '«Частые вопросы»', Hyperlink, 2568584639494804358>,\n",
       " <uia_controls.StaticWrapper - ' портала Госуслуг.', Static, 9076225395596802783>,\n",
       " <uia_controls.StaticWrapper - 'Запись в Банке данных будет удалена или изменена (в случае частичного погашения задолженности) в течение 3 – 7 дней с момента оплаты', Static, 1399360710769040348>,\n",
       " <uia_controls.StaticWrapper - ', так как денежные средства должны поступить на депозитный счет отдела судебных приставов, распределены, перечислены взыскателю.', Static, 3013927437898342407>,\n",
       " <uia_controls.StaticWrapper - 'При возникновении дополнительных вопросов можно обратиться непосредственно в подразделение судебных приставов по указанному адресу, телефону в целях получения информации о поступлении денежных средств или о принятых и возможных мерах принудительного исполнения, таких как, например, временное ограничение на выезд за пределы Российской Федерации.', Static, 6737777538145274763>,\n",
       " <uia_controls.StaticWrapper - 'Для уточнения характера и основания принятых решений о взыскании административных штрафов и налоговых платежей ФССП России предлагает обращаться в уполномоченный орган, принявший соответствующее решение, или получить информацию на официальном сайте ', Static, -7985116435317344497>,\n",
       " <uiawrapper.UIAWrapper - 'Госавтоинспекции МВД России', Hyperlink, -6370549708188042438>,\n",
       " <uia_controls.StaticWrapper - ', либо ', Static, 137091047913955987>,\n",
       " <uiawrapper.UIAWrapper - 'Федеральной налоговой службы.', Hyperlink, -2646699607941110082>,\n",
       " <uia_controls.StaticWrapper - 'Информацию о ходе исполнительного производства Вы можете получить, обратившись на Единый портал государственных услуг по адресу: ', Static, 1077150492305822274>,\n",
       " <uiawrapper.UIAWrapper - 'https://www.gosuslugi.ru/10003', Hyperlink, 2691717219435124333>,\n",
       " <uia_controls.StaticWrapper - 'Возможность получить информацию о наличии/отсутствии задолженности есть у пользователей социальных сетей «ВКонтакте» и «Одноклассники» через специальное приложение «Банк данных исполнительных производств».', Static, -4985147465392638102>,\n",
       " <uia_controls.StaticWrapper - 'Также получить информацию о наличии/отсутствии задолженности можно с мобильных устройств, использующих портативную операционную систему Android. Мобильное приложение «ФССП» доступно пользователям, имеющим подтвержденную учетную запись на портале Госуслуг и размещено для скачивания в «магазине» приложений Google Play.', Static, 3137060017838662382>,\n",
       " <uia_controls.StaticWrapper - 'Приложения для социальных сетей и мобильных устройств позволяют не только однократно получить информацию о наличии/отсутствии задолженности по исполнительным производствам, но и подписаться на получение данных сведений постоянно. Подписавшись, Вы будете получать уведомления о появлении новой задолженности или об изменениях в уже имеющейся.', Static, 6860910118085594738>,\n",
       " <uia_controls.StaticWrapper - '*', Static, 5691686189359830728>,\n",
       " <uia_controls.StaticWrapper - 'В случае установления факта наличия возбужденного исполнительного производства при проверке задолженности через сервис «Банк данных исполнительных производств» или через единый портал государственных услуг (ЕПГУ) в отношении должника с идентичными ФИО, датой рождения, во избежание ошибочной идентификации физического лица как должника по исполнительному производству и применению к нему мер принудительного исполнения (наложения ареста на счета, ограничения права регистрации транспортного средства и т.д.) граждане могут обратиться к судебному приставу-исполнителю, возбудившему исполнительное производство, и предоставить документы, позволяющие однозначно идентифицировать гражданина (копия паспорта, СНИЛС, ИНН).', Static, 2907895533504764659>,\n",
       " <uia_controls.StaticWrapper - 'В случае если с банковского счета гражданина списаны денежные средства, либо в отношении него применены иные меры принудительного исполнения (ограничение на проведение действий по регистрации имущества и пр.), а исполнительное производство возбуждено в отношении однофамильца с идентичной датой рождения, необходимо в сервисе «Банк данных исполнительных производств» получить сведения о структурном подразделении территориального органа ФССП России, фамилии имени отчестве, телефоне должностного лица, возбудившего исполнительное производство. Проверку рекомендуется проводить по всем территориальным органам ФССП России.', Static, -7416641056973486473>,\n",
       " <uia_controls.StaticWrapper - 'После получения необходимых сведений из «Банка данных исполнительных производств» необходимо обратиться к судебному приставу-исполнителю, возбудившему исполнительное производство, с заявлением об ошибочной идентификации гражданина как должника по исполнительному производству, с приложением документов, позволяющих однозначно идентифицировать его (копия паспорта, СНИЛС, ИНН), для отмены наложенных ограничений, по возможности уведомить судебного пристава-исполнителя по телефону.', Static, -3692790956726554117>,\n",
       " <uiawrapper.UIAWrapper - 'Вы можете подписаться на почтовую рассылку об изменениях в банке данных исполнительных производств', Hyperlink, -6031238814178082137>,\n",
       " <uiawrapper.UIAWrapper - '', GroupBox, -9190431105658897561>,\n",
       " <uiawrapper.UIAWrapper - 'Логотип ФССП России ФССП России Федеральная служба судебных приставов', Hyperlink, -4888975814914722768>,\n",
       " <uiawrapper.UIAWrapper - 'Логотип ФССП России', Image, 1940875159650493731>,\n",
       " <uia_controls.StaticWrapper - '107996, г. Москва, ул. Кузнецкий Мост, д. 16/5, стр. 1', Static, -7227423672366250788>,\n",
       " <uia_controls.ListViewWrapper - '', ListBox, 5081077385062262328>,\n",
       " <uia_controls.ListItemWrapper - '', ListItem, 7618602881036688447>,\n",
       " <uiawrapper.UIAWrapper - '', Hyperlink, 6004036153907386388>,\n",
       " <uiawrapper.UIAWrapper - '', Image, 7173260082633150398>,\n",
       " <uia_controls.ListItemWrapper - '', ListItem, 1957975835197235958>,\n",
       " <uiawrapper.UIAWrapper - '', Hyperlink, 4741766491052302027>,\n",
       " <uiawrapper.UIAWrapper - '', Image, -5489724365296628754>,\n",
       " <uia_controls.ListItemWrapper - '', ListItem, 3343378077992640294>,\n",
       " <uiawrapper.UIAWrapper - '', Hyperlink, 6127168733847706363>,\n",
       " <uiawrapper.UIAWrapper - '', Image, 7296392662573470373>,\n",
       " <uia_controls.ListItemWrapper - '', ListItem, 9127137703772412758>,\n",
       " <uiawrapper.UIAWrapper - '', Hyperlink, 7512570976643110699>,\n",
       " <uiawrapper.UIAWrapper - '', Image, 8681794905368874709>,\n",
       " <uia_controls.ListItemWrapper - '', ListItem, 3466510657932960269>,\n",
       " <uiawrapper.UIAWrapper - '', Hyperlink, 6250301313788026338>,\n",
       " <uiawrapper.UIAWrapper - '', Image, -3981189542560904443>,\n",
       " <uia_controls.StaticWrapper - 'Разделы сайтаПоиск долгов в мобильном приложении ФССП России', Static, -1748773589502954171>,\n",
       " <uia_controls.ListViewWrapper - '', ListBox, 3005995363038116485>,\n",
       " <uia_controls.ListItemWrapper - 'О службе', ListItem, 4975045480668684580>,\n",
       " <uiawrapper.UIAWrapper - 'О службе', Hyperlink, 7758836136523750649>,\n",
       " <uia_controls.ListItemWrapper - 'Деятельность', ListItem, 9144238379319154985>,\n",
       " <uiawrapper.UIAWrapper - 'Деятельность', Hyperlink, -6518715038535330562>,\n",
       " <uia_controls.ListItemWrapper - 'Документы', ListItem, -5133312795739926226>,\n",
       " <uiawrapper.UIAWrapper - 'Документы', Hyperlink, -6747879522869228285>,\n",
       " <uia_controls.ListItemWrapper - 'Контакты', ListItem, -964119897089455821>,\n",
       " <uiawrapper.UIAWrapper - 'Контакты', Hyperlink, -2578686624218757880>,\n",
       " <uia_controls.ListItemWrapper - 'Пресс-служба', ListItem, -3840956287073842241>,\n",
       " <uiawrapper.UIAWrapper - 'Пресс-служба', Hyperlink, 1590506274431712525>,\n",
       " <uia_controls.ListItemWrapper - 'Обращения', ListItem, -4070120771407739964>,\n",
       " <uiawrapper.UIAWrapper - 'Обращения', Hyperlink, -1286330115552673895>,\n",
       " <uia_controls.ListItemWrapper - 'Сервисы', ListItem, 99072127242730441>,\n",
       " <uiawrapper.UIAWrapper - 'Сервисы', Hyperlink, 2882862783097796510>,\n",
       " <uia_controls.ListItemWrapper - 'Открытая служба', ListItem, 4268265025893200846>,\n",
       " <uiawrapper.UIAWrapper - 'Открытая служба', Hyperlink, 7052055681748266915>,\n",
       " <uia_controls.ListItemWrapper - 'Публичная декларация', ListItem, 8437457924543671251>,\n",
       " <uiawrapper.UIAWrapper - 'Публичная декларация', Hyperlink, -7225495493310814296>,\n",
       " <uia_controls.ListViewWrapper - '', ListBox, 6239243322579205433>,\n",
       " <uia_controls.ListItemWrapper - 'Все телефоны', ListItem, 3222173677107756811>,\n",
       " <uiawrapper.UIAWrapper - 'Все телефоны', Hyperlink, 1607606949978454752>,\n",
       " <uia_controls.ListItemWrapper - 'Розыск', ListItem, -6162303468978628034>,\n",
       " <uiawrapper.UIAWrapper - 'Розыск', Hyperlink, -3378512813123561965>,\n",
       " <uia_controls.ListItemWrapper - 'Алименты', ListItem, -8500751326430156054>,\n",
       " <uiawrapper.UIAWrapper - 'Алименты', Hyperlink, -5716960670575089985>,\n",
       " <uia_controls.ListItemWrapper - 'Электронный инспектор', ListItem, 561515601193010717>,\n",
       " <uiawrapper.UIAWrapper - 'Электронный инспектор', Hyperlink, 3345306257048076786>,\n",
       " <uia_controls.ListItemWrapper - 'Версия для слабовидящих', ListItem, -8822961544893374128>,\n",
       " <uiawrapper.UIAWrapper - 'Версия для слабовидящих', Hyperlink, -6039170889038308059>,\n",
       " <uia_controls.ListItemWrapper - 'In English', ListItem, 7285334671364649468>,\n",
       " <uiawrapper.UIAWrapper - 'In English', Hyperlink, -8377618746489836079>,\n",
       " <uia_controls.ListItemWrapper - 'Карта сайта', ListItem, -2099142474721735377>,\n",
       " <uiawrapper.UIAWrapper - 'Карта сайта', Hyperlink, 684648181133330692>,\n",
       " <uia_controls.ListItemWrapper - 'Техническая поддержка', ListItem, -7085262237823752094>,\n",
       " <uiawrapper.UIAWrapper - 'Техническая поддержка', Hyperlink, -1653799676318197328>,\n",
       " <uia_controls.ListItemWrapper - 'RSS', ListItem, 9023033978434271502>,\n",
       " <uiawrapper.UIAWrapper - 'RSS', Hyperlink, 7408467251304969443>,\n",
       " <uia_controls.StaticWrapper - 'Телефон доверия «Сообщи о коррупции»', Static, 7531599831245289418>,\n",
       " <uiawrapper.UIAWrapper - '(495) 870-69-96', Hyperlink, 6362375902519525408>,\n",
       " <uiawrapper.UIAWrapper - 'Google Play', Hyperlink, 7747778145314929744>,\n",
       " <uiawrapper.UIAWrapper - 'Google Play', Image, -5805891899421925506>,\n",
       " <uiawrapper.UIAWrapper - 'appgallery', Hyperlink, -467475072045691091>,\n",
       " <uiawrapper.UIAWrapper - 'appgallery', Image, -2576758445163321388>,\n",
       " <uia_controls.StaticWrapper - '© 2008-2023 Федеральная служба', Static, -8237385491002773877>,\n",
       " <uiawrapper.UIAWrapper - '\n",
       " ', Separator, 5316284553734081373>,\n",
       " <uia_controls.StaticWrapper - 'судебных приставов (ФССП России)', Static, 7425567926851711670>,\n",
       " <uiawrapper.UIAWrapper - 'Напишите или позвоните нам', Hyperlink, -232267903373872046>,\n",
       " <uiawrapper.UIAWrapper - '', Image, 6275372852728126379>,\n",
       " <uiawrapper.UIAWrapper - '', Image, -1401491832099636056>,\n",
       " <uiawrapper.UIAWrapper - 'Позвонить в ЦТО', Hyperlink, -8002178322330954832>,\n",
       " <uiawrapper.UIAWrapper - '', Image, 5551491722405900418>,\n",
       " <uia_controls.EditWrapper - '', Edit, -2232855120688798579>,\n",
       " <uia_controls.ToolbarWrapper - 'Боковая панель', Toolbar, -9142897230412082892>,\n",
       " <uiawrapper.UIAWrapper - '', Pane, 7072589838999545051>,\n",
       " <uiawrapper.UIAWrapper - '', Pane, -1126721651574360156>,\n",
       " <uiawrapper.UIAWrapper - '', Pane, -3910512307429426225>,\n",
       " <uiawrapper.UIAWrapper - '', Pane, 2597128448672572200>,\n",
       " <uiawrapper.UIAWrapper - '', Pane, 4184695457806337726>,\n",
       " <uia_controls.ButtonWrapper - 'Поиск', Button, -9029663692920557223>,\n",
       " <uia_controls.ButtonWrapper - 'Покупки (Майкрософт)', Button, -8584320894517019174>,\n",
       " <uia_controls.ButtonWrapper - 'Инструменты', Button, -1136620694023154462>,\n",
       " <uia_controls.ButtonWrapper - 'Игры', Button, -691277895619616413>,\n",
       " <uia_controls.ButtonWrapper - 'Microsoft 365', Button, -7291964385850935189>,\n",
       " <uia_controls.ButtonWrapper - 'Outlook', Button, 7201765103277786348>,\n",
       " <uia_controls.ButtonWrapper - 'Drop', Button, 601078613046467572>,\n",
       " <uiawrapper.UIAWrapper - '', Pane, -2295945580300124166>,\n",
       " <uiawrapper.UIAWrapper - '', Pane, 4211695175801874259>,\n",
       " <uiawrapper.UIAWrapper - '', Pane, 539877543957446585>,\n",
       " <uia_controls.ButtonWrapper - 'Настроить', Button, -830352202346652016>,\n",
       " <uiawrapper.UIAWrapper - '', Pane, -7634362407676358581>,\n",
       " <uiawrapper.UIAWrapper - '', Pane, 5597097418597278595>,\n",
       " <uia_controls.ButtonWrapper - 'Параметры', Button, -385009403943113967>,\n",
       " <uiawrapper.UIAWrapper - '', Pane, -2635256474310084467>,\n",
       " <uiawrapper.UIAWrapper - '', Pane, 6520056187442402655>,\n",
       " <uiawrapper.UIAWrapper - '', Pane, -1466032545584320457>]"
      ]
     },
     "execution_count": 114,
     "metadata": {},
     "output_type": "execute_result"
    }
   ],
   "source": [
    "mainUIA.descendants()"
   ]
  },
  {
   "cell_type": "code",
   "execution_count": null,
   "id": "cbbaae6a",
   "metadata": {},
   "outputs": [],
   "source": []
  }
 ],
 "metadata": {
  "kernelspec": {
   "display_name": "Python 3 (ipykernel)",
   "language": "python",
   "name": "python3"
  },
  "language_info": {
   "codemirror_mode": {
    "name": "ipython",
    "version": 3
   },
   "file_extension": ".py",
   "mimetype": "text/x-python",
   "name": "python",
   "nbconvert_exporter": "python",
   "pygments_lexer": "ipython3",
   "version": "3.10.9"
  }
 },
 "nbformat": 4,
 "nbformat_minor": 5
}
